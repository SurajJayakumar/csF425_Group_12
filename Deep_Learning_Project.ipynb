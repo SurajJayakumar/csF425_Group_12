{
 "cells": [
  {
   "cell_type": "markdown",
   "metadata": {
    "id": "yzVI1YsL137-"
   },
   "source": [
    "# CS F425- Deep Learning Project\n",
    "Implementation of CNN for Digit Recognition\n",
    "\n",
    "TODO-\n",
    "1.   Expand on Dataset to enable alphabet recognition\n",
    "2.   Modify activation functions/number of layers for higher accuracy \n",
    "3.   Optimize tradeoff for higher resolution while maintaining performance\n",
    "4.   Simplify test process using Tk\n",
    "\n"
   ]
  },
  {
   "cell_type": "code",
   "execution_count": null,
   "metadata": {
    "id": "7Mu3Wgqg2_2S"
   },
   "outputs": [],
   "source": [
    "import tensorflow as tf\n",
    "from tensorflow import keras\n",
    "import numpy as np\n",
    "import matplotlib.pyplot as plt\n",
    "from keras.preprocessing import image\n",
    "from PIL import Image\n",
    "import cv2\n",
    "\n",
    "#import warnings\n",
    "#warnings.filterwarnings('ignore')"
   ]
  },
  {
   "cell_type": "code",
   "execution_count": null,
   "metadata": {
    "colab": {
     "base_uri": "https://localhost:8080/"
    },
    "id": "1Q5T0s4o3wDR",
    "outputId": "e33a0c7c-5579-41b1-8936-bfc843a50626"
   },
   "outputs": [],
   "source": [
    "#Load data from MNIST\n",
    "handwriting_mnist = keras.datasets.mnist\n",
    "(train_images,train_labels),(test_images,test_labels) = handwriting_mnist.load_data()\n",
    "train_images = train_images.reshape(len(train_images),28,28,1)\n",
    "test_images = test_images.reshape(len(test_images),28,28,1)"
   ]
  },
  {
   "cell_type": "code",
   "execution_count": null,
   "metadata": {
    "colab": {
     "base_uri": "https://localhost:8080/",
     "height": 610
    },
    "id": "Qa-a5Zxk4CTp",
    "outputId": "0d9657ea-ce80-4ee3-fc14-7feed671939d"
   },
   "outputs": [],
   "source": [
    "# Test Data Visualization\n",
    "fig = plt.figure(figsize=(8, 8))\n",
    "fig.subplots_adjust(left=0, right=1, bottom=0, top=1, hspace=0.05, wspace=0.05)\n",
    "\n",
    "# plot the digits: each image is 28x28 pixels\n",
    "for i in range(64):\n",
    "    ax = fig.add_subplot(8, 8, i + 1, xticks=[], yticks=[])\n",
    "    ax.imshow(test_images[i].reshape(28,28), cmap=plt.cm.binary, interpolation='nearest')\n",
    "    \n",
    "    # label the image with the target value\n",
    "    ax.text(0, 7, str(test_labels[i]))\n",
    "plt.show()"
   ]
  },
  {
   "cell_type": "code",
   "execution_count": 4,
   "metadata": {
    "colab": {
     "base_uri": "https://localhost:8080/"
    },
    "id": "CEJOUIul4jwK",
    "outputId": "fa488a1f-d8e9-4264-a832-8159880c9f41"
   },
   "outputs": [
    {
     "name": "stdout",
     "output_type": "stream",
     "text": [
      "=> Model Summary-\n",
      "Model: \"sequential\"\n",
      "_________________________________________________________________\n",
      " Layer (type)                Output Shape              Param #   \n",
      "=================================================================\n",
      " conv2d (Conv2D)             (None, 26, 26, 32)        320       \n",
      "                                                                 \n",
      " max_pooling2d (MaxPooling2D  (None, 13, 13, 32)       0         \n",
      " )                                                               \n",
      "                                                                 \n",
      " conv2d_1 (Conv2D)           (None, 11, 11, 64)        18496     \n",
      "                                                                 \n",
      " max_pooling2d_1 (MaxPooling  (None, 5, 5, 64)         0         \n",
      " 2D)                                                             \n",
      "                                                                 \n",
      " flatten (Flatten)           (None, 1600)              0         \n",
      "                                                                 \n",
      " dense (Dense)               (None, 128)               204928    \n",
      "                                                                 \n",
      " dense_1 (Dense)             (None, 10)                1290      \n",
      "                                                                 \n",
      "=================================================================\n",
      "Total params: 225,034\n",
      "Trainable params: 225,034\n",
      "Non-trainable params: 0\n",
      "_________________________________________________________________\n",
      "None\n"
     ]
    }
   ],
   "source": [
    "# Creating model\n",
    "model = keras.models.Sequential([\n",
    "                                 keras.layers.Conv2D(32,(3,3),activation='relu',input_shape=(28,28,1)),\n",
    "                                 keras.layers.MaxPool2D(pool_size=(2, 2), strides=(2,2)),\n",
    "                                 keras.layers.Conv2D(64,(3,3),activation='relu'),\n",
    "                                 keras.layers.MaxPool2D(pool_size=(2, 2), strides=(2,2)),\n",
    "                                 keras.layers.Flatten(),\n",
    "                                 keras.layers.Dense(128,activation='relu'),\n",
    "                                 keras.layers.Dense(10,activation='softmax')\n",
    "                                ])\n",
    "\n",
    "print(\"=> Model Summary-\")\n",
    "print(model.summary())"
   ]
  },
  {
   "cell_type": "code",
   "execution_count": 5,
   "metadata": {
    "id": "KVgGipz54nOp"
   },
   "outputs": [],
   "source": [
    "# Model Compile\n",
    "model.compile(optimizer='adam',metrics=['acc'],loss='sparse_categorical_crossentropy')"
   ]
  },
  {
   "cell_type": "code",
   "execution_count": 6,
   "metadata": {
    "colab": {
     "base_uri": "https://localhost:8080/"
    },
    "id": "xzcVhBDPI39S",
    "outputId": "2cd7d922-7dd6-4a71-bb51-af46fc95ac6c"
   },
   "outputs": [
    {
     "name": "stdout",
     "output_type": "stream",
     "text": [
      "=> Fitting the Model-\n",
      "Epoch 1/100\n",
      "1874/1875 [============================>.] - ETA: 0s - loss: 0.3246 - acc: 0.9492\n",
      " Model has reached 90% accuracy!\n",
      "1875/1875 [==============================] - 26s 13ms/step - loss: 0.3245 - acc: 0.9492\n",
      "=> Model Evaluation-\n",
      "313/313 [==============================] - 1s 4ms/step - loss: 0.0761 - acc: 0.9772\n"
     ]
    },
    {
     "data": {
      "text/plain": [
       "[0.07613489031791687, 0.9771999716758728]"
      ]
     },
     "execution_count": 6,
     "metadata": {},
     "output_type": "execute_result"
    }
   ],
   "source": [
    "# Accuracy Callback\n",
    "class handwriting_acc_callback(keras.callbacks.Callback):\n",
    "  def on_epoch_end(self,epoch,logs={}):\n",
    "    if(logs.get('acc') >= 0.9):\n",
    "       print(\"\\n Model has reached 90% accuracy!\")\n",
    "       self.model.stop_training = True\n",
    "\n",
    "handwriting_acc_callback = handwriting_acc_callback()\n",
    "\n",
    "# Model Fitting\n",
    "print(\"=> Fitting the Model-\")\n",
    "model.fit(train_images,train_labels,epochs=100,callbacks=[handwriting_acc_callback])\n",
    "\n",
    "# Model Evaluation\n",
    "print(\"=> Model Evaluation-\")\n",
    "model.evaluate(test_images,test_labels)"
   ]
  },
  {
   "cell_type": "markdown",
   "metadata": {
    "id": "h6jTgZQFMADC"
   },
   "source": [
    "Data Source: https://keras.io/datasets/#mnist-database-of-handwritten-digits"
   ]
  },
  {
   "cell_type": "code",
   "execution_count": 7,
   "metadata": {
    "colab": {
     "base_uri": "https://localhost:8080/",
     "height": 55
    },
    "id": "sOKpOHVOLl9l",
    "outputId": "938c751b-099f-4aaf-ff77-62f3ad551a0d"
   },
   "outputs": [
    {
     "ename": "ModuleNotFoundError",
     "evalue": "No module named 'google.colab'",
     "output_type": "error",
     "traceback": [
      "\u001b[1;31m---------------------------------------------------------------------------\u001b[0m",
      "\u001b[1;31mModuleNotFoundError\u001b[0m                       Traceback (most recent call last)",
      "Input \u001b[1;32mIn [7]\u001b[0m, in \u001b[0;36m<cell line: 1>\u001b[1;34m()\u001b[0m\n\u001b[1;32m----> 1\u001b[0m \u001b[38;5;28;01mfrom\u001b[39;00m \u001b[38;5;21;01mgoogle\u001b[39;00m\u001b[38;5;21;01m.\u001b[39;00m\u001b[38;5;21;01mcolab\u001b[39;00m \u001b[38;5;28;01mimport\u001b[39;00m files\u001b[38;5;66;03m# Model Prediction\u001b[39;00m\n\u001b[0;32m      2\u001b[0m \u001b[38;5;28mprint\u001b[39m(\u001b[38;5;124m\"\u001b[39m\u001b[38;5;124m=> Model Prediction-\u001b[39m\u001b[38;5;124m\"\u001b[39m)\n\u001b[0;32m      3\u001b[0m uploaded \u001b[38;5;241m=\u001b[39m files\u001b[38;5;241m.\u001b[39mupload()\n",
      "\u001b[1;31mModuleNotFoundError\u001b[0m: No module named 'google.colab'"
     ]
    }
   ],
   "source": [
    "from google.colab import files# Model Prediction\n",
    "print(\"=> Model Prediction-\")\n",
    "uploaded = files.upload()\n",
    "\n",
    "for fn in uploaded.keys():\n",
    "  path = '/content/' + fn\n",
    "  img = image.load_img(path)\n",
    "  x = image.img_to_array(img)\n",
    "  x = cv2.cvtColor(x, cv2.COLOR_BGR2GRAY)\n",
    "  print(\"**************** Uploaded Image ****************\")\n",
    "  plt.imshow(x, cmap='gray')\n",
    "  plt.show()\n",
    "  x = cv2.resize(np.array(x), (28, 28))\n",
    "  x = x.reshape(28, 28, 1)\n",
    "  x = np.expand_dims(x, axis=0)\n",
    "\n",
    "  class_label = model.predict(x)\n",
    "  print(\"Predicted Value is:\",np.where(class_label[0] == max(class_label[0]))[0])"
   ]
  },
  {
   "cell_type": "markdown",
   "metadata": {
    "id": "WlIptGl_pD-T"
   },
   "source": [
    "Here, I am trying to use tkinter so that we can draw the input image instead of uploading it as a file in the above block. \n",
    "\n",
    "NOTE- This will NOT run on google collab. Try it by importing this notebook and running natively:"
   ]
  },
  {
   "cell_type": "code",
   "execution_count": null,
   "metadata": {
    "colab": {
     "base_uri": "https://localhost:8080/",
     "height": 377
    },
    "id": "neKPlv8jU17w",
    "outputId": "ca5741b8-7612-4e7c-de3f-e62e3fd9929f"
   },
   "outputs": [],
   "source": [
    "from PIL import ImageTk, ImageDraw\n",
    "import PIL\n",
    "from tkinter import *\n",
    "\n",
    "width = 200 \n",
    "height = 200 \n",
    "center = height//2\n",
    "white = (255, 255, 255) \n",
    "\n",
    "def save():\n",
    "    filename = \"input.jpg\"\n",
    "    output_image.save(filename)\n",
    "\n",
    "def paint(event):\n",
    "    x1, y1 = (event.x - 1), (event.y - 1)\n",
    "    x2, y2 = (event.x + 1), (event.y + 1)\n",
    "    canvas.create_oval(x1, y1, x2, y2, fill=\"black\",width=5)\n",
    "    draw.line([x1, y1, x2, y2],fill=\"black\",width=5)\n",
    "\n",
    "master = Tk()\n",
    "\n",
    "canvas = Canvas(master, width=width, height=height, bg='white')\n",
    "canvas.pack()\n",
    "\n",
    "output_image = PIL.Image.new(\"RGB\", (width, height), white)\n",
    "draw = ImageDraw.Draw(output_image)\n",
    "canvas.pack(expand=YES, fill=BOTH)\n",
    "canvas.bind(\"<B1-Motion>\", paint)\n",
    "\n",
    "button=Button(text=\"save\",command=save)\n",
    "button.pack()\n",
    "\n",
    "master.mainloop()"
   ]
  },
  {
   "cell_type": "code",
   "execution_count": null,
   "metadata": {},
   "outputs": [],
   "source": []
  }
 ],
 "metadata": {
  "colab": {
   "provenance": []
  },
  "kernelspec": {
   "display_name": "Python 3 (ipykernel)",
   "language": "python",
   "name": "python3"
  },
  "language_info": {
   "codemirror_mode": {
    "name": "ipython",
    "version": 3
   },
   "file_extension": ".py",
   "mimetype": "text/x-python",
   "name": "python",
   "nbconvert_exporter": "python",
   "pygments_lexer": "ipython3",
   "version": "3.10.5"
  }
 },
 "nbformat": 4,
 "nbformat_minor": 1
}
